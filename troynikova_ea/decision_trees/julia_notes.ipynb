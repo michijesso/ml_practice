{
 "cells": [
  {
   "cell_type": "markdown",
   "metadata": {},
   "source": [
    "# Работа с таблицами и их представлениями"
   ]
  },
  {
   "cell_type": "markdown",
   "metadata": {},
   "source": [
    "Чтобы начать работать с данными в таблицах нам понадобятся библиотеки **[DataFrames](https://juliadata.github.io/DataFrames.jl/stable/)** и **[CSV](https://juliadata.github.io/CSV.jl/stable/)**. В Julia есть встроенный пакетный менеджер **[Pkg](https://docs.julialang.org/en/v1/stdlib/Pkg/index.html)**, через него можно загружать обновлять и удалять библиотеки. Добавление выглядит следующим образом:"
   ]
  },
  {
   "cell_type": "code",
   "execution_count": 5,
   "metadata": {},
   "outputs": [
    {
     "name": "stdout",
     "output_type": "stream",
     "text": [
      "\u001b[32m\u001b[1m Resolving\u001b[22m\u001b[39m package versions...\n",
      "\u001b[32m\u001b[1m  Updating\u001b[22m\u001b[39m `~/.julia/environments/v1.2/Project.toml`\n",
      "\u001b[90m [no changes]\u001b[39m\n",
      "\u001b[32m\u001b[1m  Updating\u001b[22m\u001b[39m `~/.julia/environments/v1.2/Manifest.toml`\n",
      "\u001b[90m [no changes]\u001b[39m\n",
      "\u001b[32m\u001b[1m Resolving\u001b[22m\u001b[39m package versions...\n",
      "\u001b[32m\u001b[1m  Updating\u001b[22m\u001b[39m `~/.julia/environments/v1.2/Project.toml`\n",
      "\u001b[90m [no changes]\u001b[39m\n",
      "\u001b[32m\u001b[1m  Updating\u001b[22m\u001b[39m `~/.julia/environments/v1.2/Manifest.toml`\n",
      "\u001b[90m [no changes]\u001b[39m\n"
     ]
    }
   ],
   "source": [
    "using Pkg\n",
    "Pkg.add(\"DataFrames\")\n",
    "Pkg.add(\"CSV\")"
   ]
  },
  {
   "cell_type": "markdown",
   "metadata": {},
   "source": [
    "Вся работа с табличным файлом осуществляется с помощью CSV, а DataFrames нужен для внутреннего представления табличных данных в программе. Чтение таблицы из файла с последующим сохранением в объект выглядит следующим образом:"
   ]
  },
  {
   "cell_type": "code",
   "execution_count": 11,
   "metadata": {},
   "outputs": [
    {
     "data": {
      "text/plain": [
       "DataFrame"
      ]
     },
     "execution_count": 11,
     "metadata": {},
     "output_type": "execute_result"
    }
   ],
   "source": [
    "using CSV\n",
    "using DataFrames\n",
    "\n",
    "df = CSV.read(\"C:\\\\Users\\\\Екатерина\\\\Desktop\\\\ml-master\\\\decision_trees\\\\titanic.csv\")\n",
    "typeof(df)"
   ]
  },
  {
   "cell_type": "markdown",
   "metadata": {},
   "source": [
    "df теперь хранит в себе всю таблицу с названиями столбцов, их типом и непосредственно значениями строк. Отобразить первые 5 элементов можно следующим способом:"
   ]
  },
  {
   "cell_type": "code",
   "execution_count": 14,
   "metadata": {},
   "outputs": [
    {
     "data": {
      "text/html": [
       "<table class=\"data-frame\"><thead><tr><th></th><th>table</th><th>year</th><th>class</th><th>measure</th><th>type</th><th>estimate</th></tr><tr><th></th><th>Int64</th><th>Int64</th><th>String</th><th>Int64</th><th>Int64</th><th>Float64⍰</th></tr></thead><tbody><p>5 rows × 6 columns</p><tr><th>1</th><td>101</td><td>2015</td><td>W1</td><td>1</td><td>1</td><td>350.0</td></tr><tr><th>2</th><td>101</td><td>2015</td><td>W2</td><td>1</td><td>1</td><td>285.0</td></tr><tr><th>3</th><td>101</td><td>2015</td><td>W3</td><td>1</td><td>1</td><td>70.0</td></tr><tr><th>4</th><td>101</td><td>2015</td><td>W4</td><td>1</td><td>1</td><td>7.0</td></tr><tr><th>5</th><td>101</td><td>2015</td><td>W5</td><td>1</td><td>1</td><td>264.0</td></tr></tbody></table>"
      ],
      "text/latex": [
       "\\begin{tabular}{r|cccccc}\n",
       "\t& table & year & class & measure & type & estimate\\\\\n",
       "\t\\hline\n",
       "\t& Int64 & Int64 & String & Int64 & Int64 & Float64⍰\\\\\n",
       "\t\\hline\n",
       "\t1 & 101 & 2015 & W1 & 1 & 1 & 350.0 \\\\\n",
       "\t2 & 101 & 2015 & W2 & 1 & 1 & 285.0 \\\\\n",
       "\t3 & 101 & 2015 & W3 & 1 & 1 & 70.0 \\\\\n",
       "\t4 & 101 & 2015 & W4 & 1 & 1 & 7.0 \\\\\n",
       "\t5 & 101 & 2015 & W5 & 1 & 1 & 264.0 \\\\\n",
       "\\end{tabular}\n"
      ],
      "text/plain": [
       "5×6 DataFrame\n",
       "│ Row │ table │ year  │ class  │ measure │ type  │ estimate │\n",
       "│     │ \u001b[90mInt64\u001b[39m │ \u001b[90mInt64\u001b[39m │ \u001b[90mString\u001b[39m │ \u001b[90mInt64\u001b[39m   │ \u001b[90mInt64\u001b[39m │ \u001b[90mFloat64⍰\u001b[39m │\n",
       "├─────┼───────┼───────┼────────┼─────────┼───────┼──────────┤\n",
       "│ 1   │ 101   │ 2015  │ W1     │ 1       │ 1     │ 350.0    │\n",
       "│ 2   │ 101   │ 2015  │ W2     │ 1       │ 1     │ 285.0    │\n",
       "│ 3   │ 101   │ 2015  │ W3     │ 1       │ 1     │ 70.0     │\n",
       "│ 4   │ 101   │ 2015  │ W4     │ 1       │ 1     │ 7.0      │\n",
       "│ 5   │ 101   │ 2015  │ W5     │ 1       │ 1     │ 264.0    │"
      ]
     },
     "execution_count": 14,
     "metadata": {},
     "output_type": "execute_result"
    }
   ],
   "source": [
    "first(df, 5)"
   ]
  },
  {
   "cell_type": "markdown",
   "metadata": {},
   "source": [
    "Обращение к определенным диапазонам элементов удобно осуществлять с помощью `:` оператора.\n",
    "Например можно получить доступ к первым десяти строкам шестого столбца:"
   ]
  },
  {
   "cell_type": "code",
   "execution_count": 21,
   "metadata": {},
   "outputs": [
    {
     "data": {
      "text/html": [
       "<table class=\"data-frame\"><thead><tr><th></th><th>estimate</th></tr><tr><th></th><th>Float64⍰</th></tr></thead><tbody><p>10 rows × 1 columns</p><tr><th>1</th><td>350.0</td></tr><tr><th>2</th><td>285.0</td></tr><tr><th>3</th><td>70.0</td></tr><tr><th>4</th><td>7.0</td></tr><tr><th>5</th><td>264.0</td></tr><tr><th>6</th><td>13.0</td></tr><tr><th>7</th><td>29.0</td></tr><tr><th>8</th><td>12.0</td></tr><tr><th>9</th><td>13.0</td></tr><tr><th>10</th><td>517.0</td></tr></tbody></table>"
      ],
      "text/latex": [
       "\\begin{tabular}{r|c}\n",
       "\t& estimate\\\\\n",
       "\t\\hline\n",
       "\t& Float64⍰\\\\\n",
       "\t\\hline\n",
       "\t1 & 350.0 \\\\\n",
       "\t2 & 285.0 \\\\\n",
       "\t3 & 70.0 \\\\\n",
       "\t4 & 7.0 \\\\\n",
       "\t5 & 264.0 \\\\\n",
       "\t6 & 13.0 \\\\\n",
       "\t7 & 29.0 \\\\\n",
       "\t8 & 12.0 \\\\\n",
       "\t9 & 13.0 \\\\\n",
       "\t10 & 517.0 \\\\\n",
       "\\end{tabular}\n"
      ],
      "text/plain": [
       "10×1 DataFrame\n",
       "│ Row │ estimate │\n",
       "│     │ \u001b[90mFloat64⍰\u001b[39m │\n",
       "├─────┼──────────┤\n",
       "│ 1   │ 350.0    │\n",
       "│ 2   │ 285.0    │\n",
       "│ 3   │ 70.0     │\n",
       "│ 4   │ 7.0      │\n",
       "│ 5   │ 264.0    │\n",
       "│ 6   │ 13.0     │\n",
       "│ 7   │ 29.0     │\n",
       "│ 8   │ 12.0     │\n",
       "│ 9   │ 13.0     │\n",
       "│ 10  │ 517.0    │"
      ]
     },
     "execution_count": 21,
     "metadata": {},
     "output_type": "execute_result"
    }
   ],
   "source": [
    "df[1:10, [6]]"
   ]
  },
  {
   "cell_type": "markdown",
   "metadata": {},
   "source": [
    "Либо получить шестую запись в фрейме с названиями и типами первых четырех столбцов:"
   ]
  },
  {
   "cell_type": "code",
   "execution_count": 24,
   "metadata": {},
   "outputs": [
    {
     "data": {
      "text/html": [
       "<p>DataFrameRow (4 columns)</p><table class=\"data-frame\"><thead><tr><th></th><th>table</th><th>year</th><th>class</th><th>measure</th></tr><tr><th></th><th>Int64</th><th>Int64</th><th>String</th><th>Int64</th></tr></thead><tbody><tr><th>6</th><td>101</td><td>2015</td><td>W6</td><td>1</td></tr></tbody></table>"
      ],
      "text/latex": [
       "\\begin{tabular}{r|cccc}\n",
       "\t& table & year & class & measure\\\\\n",
       "\t\\hline\n",
       "\t& Int64 & Int64 & String & Int64\\\\\n",
       "\t\\hline\n",
       "\t6 & 101 & 2015 & W6 & 1 \\\\\n",
       "\\end{tabular}\n"
      ],
      "text/plain": [
       "DataFrameRow\n",
       "│ Row │ table │ year  │ class  │ measure │\n",
       "│     │ \u001b[90mInt64\u001b[39m │ \u001b[90mInt64\u001b[39m │ \u001b[90mString\u001b[39m │ \u001b[90mInt64\u001b[39m   │\n",
       "├─────┼───────┼───────┼────────┼─────────┤\n",
       "│ 6   │ 101   │ 2015  │ W6     │ 1       │"
      ]
     },
     "execution_count": 24,
     "metadata": {},
     "output_type": "execute_result"
    }
   ],
   "source": [
    "df[6, 1:4]"
   ]
  },
  {
   "cell_type": "markdown",
   "metadata": {},
   "source": [
    "Julia **[гомоиконичный](https://ru.wikipedia.org/wiki/%D0%93%D0%BE%D0%BC%D0%BE%D0%B8%D0%BA%D0%BE%D0%BD%D0%B8%D1%87%D0%BD%D0%BE%D1%81%D1%82%D1%8C)** язык, что позволяет с помощью объектов типа `Symbol` обращаться к столбцам по их названию:"
   ]
  },
  {
   "cell_type": "code",
   "execution_count": 26,
   "metadata": {},
   "outputs": [
    {
     "data": {
      "text/html": [
       "<table class=\"data-frame\"><thead><tr><th></th><th>estimate</th></tr><tr><th></th><th>Float64⍰</th></tr></thead><tbody><p>5 rows × 1 columns</p><tr><th>1</th><td>350.0</td></tr><tr><th>2</th><td>285.0</td></tr><tr><th>3</th><td>70.0</td></tr><tr><th>4</th><td>7.0</td></tr><tr><th>5</th><td>264.0</td></tr></tbody></table>"
      ],
      "text/latex": [
       "\\begin{tabular}{r|c}\n",
       "\t& estimate\\\\\n",
       "\t\\hline\n",
       "\t& Float64⍰\\\\\n",
       "\t\\hline\n",
       "\t1 & 350.0 \\\\\n",
       "\t2 & 285.0 \\\\\n",
       "\t3 & 70.0 \\\\\n",
       "\t4 & 7.0 \\\\\n",
       "\t5 & 264.0 \\\\\n",
       "\\end{tabular}\n"
      ],
      "text/plain": [
       "5×1 DataFrame\n",
       "│ Row │ estimate │\n",
       "│     │ \u001b[90mFloat64⍰\u001b[39m │\n",
       "├─────┼──────────┤\n",
       "│ 1   │ 350.0    │\n",
       "│ 2   │ 285.0    │\n",
       "│ 3   │ 70.0     │\n",
       "│ 4   │ 7.0      │\n",
       "│ 5   │ 264.0    │"
      ]
     },
     "execution_count": 26,
     "metadata": {},
     "output_type": "execute_result"
    }
   ],
   "source": [
    "df[1:5, [:estimate]]"
   ]
  },
  {
   "cell_type": "code",
   "execution_count": 27,
   "metadata": {},
   "outputs": [
    {
     "data": {
      "text/plain": [
       "Symbol"
      ]
     },
     "execution_count": 27,
     "metadata": {},
     "output_type": "execute_result"
    }
   ],
   "source": [
    "typeof(:estimate)"
   ]
  },
  {
   "cell_type": "markdown",
   "metadata": {},
   "source": [
    "# Типизация, функции и рекурсия"
   ]
  },
  {
   "cell_type": "markdown",
   "metadata": {},
   "source": [
    "Julia - язык с динамической типизацией, следовательно можно не указывать тип возвращаемого функцией значения и типы аргументов функции.\n",
    "Возможность указания типов присутствует, что может помочь в отладке и улучшении производительности кода.\n",
    "Пример:"
   ]
  },
  {
   "cell_type": "code",
   "execution_count": 40,
   "metadata": {},
   "outputs": [
    {
     "name": "stdout",
     "output_type": "stream",
     "text": [
      "foo(12.0, 10.0) = 120.0\n",
      "bar(12.0, 10.0) = 120.0\n",
      "foo_(12.0, 10.0) = 120.0\n",
      "bar_(12.0, 10.0) = 120.0\n"
     ]
    },
    {
     "data": {
      "text/plain": [
       "120.0"
      ]
     },
     "execution_count": 40,
     "metadata": {},
     "output_type": "execute_result"
    }
   ],
   "source": [
    "function foo(a, b)\n",
    "    a * b\n",
    "end\n",
    "\n",
    "bar(a, b) = a * b\n",
    "\n",
    "function foo_(a::Float64, b::Float64)\n",
    "   a * b \n",
    "end\n",
    "\n",
    "bar_(a::Float64, b::Float64) = a * b\n",
    "\n",
    "@show foo(12.0, 10.0)\n",
    "@show bar(12.0, 10.0)\n",
    "\n",
    "@show foo_(12.0, 10.0)\n",
    "@show bar_(12.0, 10.0)"
   ]
  },
  {
   "cell_type": "markdown",
   "metadata": {},
   "source": [
    "Функция `foo` выполняет перемножение чисел любых типов, `foo_` в свою очередь только чисел с плавающей точкой. `bar` и `bar_` это просто болле удобная форма записи."
   ]
  },
  {
   "cell_type": "markdown",
   "metadata": {},
   "source": [
    "Возвращаемое значение функции - это результат выполнения последнего выражения в теле функции. Если необходим более сложный сценарий то используют ключевое слово `return`. Пример вычисления факториала:"
   ]
  },
  {
   "cell_type": "code",
   "execution_count": 47,
   "metadata": {},
   "outputs": [
    {
     "data": {
      "text/plain": [
       "120"
      ]
     },
     "execution_count": 47,
     "metadata": {},
     "output_type": "execute_result"
    }
   ],
   "source": [
    "function fact(n)\n",
    "    if n == 0\n",
    "        return 1\n",
    "    else\n",
    "        recurse = fact(n-1)\n",
    "        result = n * recurse\n",
    "        return result\n",
    "    end\n",
    "end\n",
    "\n",
    "fact(5)"
   ]
  },
  {
   "cell_type": "markdown",
   "metadata": {},
   "source": [
    "Также поддерживаются анонимные функции, с использованием `->` оператора, например:"
   ]
  },
  {
   "cell_type": "code",
   "execution_count": 45,
   "metadata": {},
   "outputs": [
    {
     "data": {
      "text/plain": [
       "3-element Array{Int64,1}:\n",
       " 1\n",
       " 4\n",
       " 9"
      ]
     },
     "execution_count": 45,
     "metadata": {},
     "output_type": "execute_result"
    }
   ],
   "source": [
    "map(x -> x^2, [1, 2, 3])"
   ]
  },
  {
   "cell_type": "markdown",
   "metadata": {},
   "source": [
    "`map()` применяет анонимную функцию возведения в квадрат к каждому из элементов массива."
   ]
  },
  {
   "cell_type": "markdown",
   "metadata": {},
   "source": [
    "# Составные типы данных"
   ]
  },
  {
   "cell_type": "markdown",
   "metadata": {},
   "source": [
    "Объявление составных типов данных осуществляется с помощью ключевого слова `struct`. Внтури укзываются поля и функции структуры. Если тип поля не указан, то по умолчанию он будет `Any`. Тела функций и значения полей задаются в конструкторе. Подробнее о типах конструкторов и их использовании читать **[тут](https://docs.julialang.org/en/v1/manual/constructors/)**. Пример простого составного типа:"
   ]
  },
  {
   "cell_type": "code",
   "execution_count": 49,
   "metadata": {},
   "outputs": [
    {
     "data": {
      "text/plain": [
       "Foo(\"foo\", 123, 321.123)"
      ]
     },
     "execution_count": 49,
     "metadata": {},
     "output_type": "execute_result"
    }
   ],
   "source": [
    "struct Foo\n",
    "    bar\n",
    "    baz::Int\n",
    "    qux::Float64\n",
    "end\n",
    "\n",
    "test = Foo(\"foo\", 123, 321.123)"
   ]
  }
 ],
 "metadata": {
  "kernelspec": {
   "display_name": "Python 3",
   "language": "python",
   "name": "python3"
  },
  "language_info": {
   "codemirror_mode": {
    "name": "ipython",
    "version": 3
   },
   "file_extension": ".py",
   "mimetype": "text/x-python",
   "name": "python",
   "nbconvert_exporter": "python",
   "pygments_lexer": "ipython3",
   "version": "3.7.4"
  }
 },
 "nbformat": 4,
 "nbformat_minor": 4
}
